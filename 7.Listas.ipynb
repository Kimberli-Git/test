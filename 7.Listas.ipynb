{
 "cells": [
  {
   "cell_type": "code",
   "execution_count": null,
   "metadata": {},
   "outputs": [],
   "source": [
    "#Listas\n",
    "#Definiendo una lista\n",
    "lista=[] #Lista vacia \n",
    "meses=[\"Enero\",\"Febrero\",\"Marzo\",\"Abril\",'Mayo','Junio','Julio','Agosto','Septiembre','Octubre','Noviembre','Diciembre']\n",
    "print(meses[1])\n",
    "print(meses[1:3])\n",
    "print(meses[-1])\n",
    "print(len(meses))\n",
    "meses.append(\"mes 13\")#Agrega a la lista un valor\n",
    "print(meses)\n",
    "print(meses[-1])\n",
    "meses.pop()#Elimina de la lista el ultimo valor\n",
    "print(meses[-1])\n",
    "meses.remove(\"Febrero\")#Elimina un valor de una lista dependiendo del parametro\n",
    "print(meses[1])\n",
    "meses=lista\n",
    "meses"
   ]
  }
 ],
 "metadata": {
  "interpreter": {
   "hash": "3ef525aed409cc5a13783047c8d4d090b051bbc20387ad523d849e44a70e3fe1"
  },
  "kernelspec": {
   "display_name": "Python 3.10.4 64-bit",
   "language": "python",
   "name": "python3"
  },
  "language_info": {
   "codemirror_mode": {
    "name": "ipython",
    "version": 3
   },
   "file_extension": ".py",
   "mimetype": "text/x-python",
   "name": "python",
   "nbconvert_exporter": "python",
   "pygments_lexer": "ipython3",
   "version": "3.10.5"
  },
  "orig_nbformat": 4
 },
 "nbformat": 4,
 "nbformat_minor": 2
}
